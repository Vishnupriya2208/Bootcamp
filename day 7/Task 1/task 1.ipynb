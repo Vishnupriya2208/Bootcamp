{
 "cells": [
  {
   "cell_type": "code",
   "execution_count": 2,
   "metadata": {},
   "outputs": [
    {
     "name": "stdout",
     "output_type": "stream",
     "text": [
      "Requirement already satisfied: pandas in c:\\users\\santh\\appdata\\local\\programs\\python\\python313\\lib\\site-packages (2.2.3)Note: you may need to restart the kernel to use updated packages.\n",
      "\n",
      "Collecting mysql-connector-python\n",
      "  Downloading mysql_connector_python-9.2.0-cp313-cp313-win_amd64.whl.metadata (6.2 kB)\n",
      "Collecting sqlalchemy\n",
      "  Downloading SQLAlchemy-2.0.38-cp313-cp313-win_amd64.whl.metadata (9.9 kB)\n",
      "Collecting openpyxl\n",
      "  Downloading openpyxl-3.1.5-py2.py3-none-any.whl.metadata (2.5 kB)\n",
      "Requirement already satisfied: requests in c:\\users\\santh\\appdata\\local\\programs\\python\\python313\\lib\\site-packages (2.32.3)\n",
      "Requirement already satisfied: numpy>=1.26.0 in c:\\users\\santh\\appdata\\local\\programs\\python\\python313\\lib\\site-packages (from pandas) (2.2.3)\n",
      "Requirement already satisfied: python-dateutil>=2.8.2 in c:\\users\\santh\\appdata\\local\\programs\\python\\python313\\lib\\site-packages (from pandas) (2.9.0.post0)\n",
      "Requirement already satisfied: pytz>=2020.1 in c:\\users\\santh\\appdata\\local\\programs\\python\\python313\\lib\\site-packages (from pandas) (2025.1)\n",
      "Requirement already satisfied: tzdata>=2022.7 in c:\\users\\santh\\appdata\\local\\programs\\python\\python313\\lib\\site-packages (from pandas) (2025.1)\n",
      "Collecting greenlet!=0.4.17 (from sqlalchemy)\n",
      "  Downloading greenlet-3.1.1-cp313-cp313-win_amd64.whl.metadata (3.9 kB)\n",
      "Requirement already satisfied: typing-extensions>=4.6.0 in c:\\users\\santh\\appdata\\local\\programs\\python\\python313\\lib\\site-packages (from sqlalchemy) (4.12.2)\n",
      "Collecting et-xmlfile (from openpyxl)\n",
      "  Downloading et_xmlfile-2.0.0-py3-none-any.whl.metadata (2.7 kB)\n",
      "Requirement already satisfied: charset-normalizer<4,>=2 in c:\\users\\santh\\appdata\\local\\programs\\python\\python313\\lib\\site-packages (from requests) (3.4.0)\n",
      "Requirement already satisfied: idna<4,>=2.5 in c:\\users\\santh\\appdata\\local\\programs\\python\\python313\\lib\\site-packages (from requests) (3.10)\n",
      "Requirement already satisfied: urllib3<3,>=1.21.1 in c:\\users\\santh\\appdata\\local\\programs\\python\\python313\\lib\\site-packages (from requests) (2.2.3)\n",
      "Requirement already satisfied: certifi>=2017.4.17 in c:\\users\\santh\\appdata\\local\\programs\\python\\python313\\lib\\site-packages (from requests) (2024.8.30)\n",
      "Requirement already satisfied: six>=1.5 in c:\\users\\santh\\appdata\\local\\programs\\python\\python313\\lib\\site-packages (from python-dateutil>=2.8.2->pandas) (1.16.0)\n",
      "Downloading mysql_connector_python-9.2.0-cp313-cp313-win_amd64.whl (16.1 MB)\n",
      "   ---------------------------------------- 0.0/16.1 MB ? eta -:--:--\n",
      "   - -------------------------------------- 0.5/16.1 MB 4.9 MB/s eta 0:00:04\n",
      "   - -------------------------------------- 0.8/16.1 MB 4.0 MB/s eta 0:00:04\n",
      "   -- ------------------------------------- 1.0/16.1 MB 1.5 MB/s eta 0:00:11\n",
      "   --- ------------------------------------ 1.3/16.1 MB 1.4 MB/s eta 0:00:11\n",
      "   --- ------------------------------------ 1.6/16.1 MB 1.5 MB/s eta 0:00:10\n",
      "   ----- ---------------------------------- 2.1/16.1 MB 1.6 MB/s eta 0:00:09\n",
      "   ----- ---------------------------------- 2.1/16.1 MB 1.6 MB/s eta 0:00:09\n",
      "   ----- ---------------------------------- 2.4/16.1 MB 1.3 MB/s eta 0:00:11\n",
      "   ----- ---------------------------------- 2.4/16.1 MB 1.3 MB/s eta 0:00:11\n",
      "   ------ --------------------------------- 2.6/16.1 MB 1.2 MB/s eta 0:00:11\n",
      "   ------- -------------------------------- 2.9/16.1 MB 1.2 MB/s eta 0:00:12\n",
      "   -------- ------------------------------- 3.4/16.1 MB 1.3 MB/s eta 0:00:10\n",
      "   --------- ------------------------------ 3.9/16.1 MB 1.4 MB/s eta 0:00:09\n",
      "   ----------- ---------------------------- 4.5/16.1 MB 1.5 MB/s eta 0:00:08\n",
      "   ------------- -------------------------- 5.2/16.1 MB 1.6 MB/s eta 0:00:07\n",
      "   ------------- -------------------------- 5.5/16.1 MB 1.7 MB/s eta 0:00:07\n",
      "   ------------- -------------------------- 5.5/16.1 MB 1.7 MB/s eta 0:00:07\n",
      "   -------------- ------------------------- 5.8/16.1 MB 1.5 MB/s eta 0:00:07\n",
      "   -------------- ------------------------- 6.0/16.1 MB 1.5 MB/s eta 0:00:07\n",
      "   --------------- ------------------------ 6.3/16.1 MB 1.5 MB/s eta 0:00:07\n",
      "   ---------------- ----------------------- 6.8/16.1 MB 1.5 MB/s eta 0:00:07\n",
      "   ------------------ --------------------- 7.6/16.1 MB 1.6 MB/s eta 0:00:06\n",
      "   ------------------- -------------------- 7.9/16.1 MB 1.6 MB/s eta 0:00:06\n",
      "   -------------------- ------------------- 8.1/16.1 MB 1.6 MB/s eta 0:00:05\n",
      "   ---------------------- ----------------- 8.9/16.1 MB 1.7 MB/s eta 0:00:05\n",
      "   ------------------------ --------------- 9.7/16.1 MB 1.8 MB/s eta 0:00:04\n",
      "   -------------------------- ------------- 10.5/16.1 MB 1.8 MB/s eta 0:00:04\n",
      "   ---------------------------- ----------- 11.5/16.1 MB 1.9 MB/s eta 0:00:03\n",
      "   ------------------------------- -------- 12.6/16.1 MB 2.0 MB/s eta 0:00:02\n",
      "   --------------------------------- ------ 13.6/16.1 MB 2.1 MB/s eta 0:00:02\n",
      "   ------------------------------------- -- 14.9/16.1 MB 2.3 MB/s eta 0:00:01\n",
      "   ---------------------------------------- 16.1/16.1 MB 2.4 MB/s eta 0:00:00\n",
      "Downloading SQLAlchemy-2.0.38-cp313-cp313-win_amd64.whl (2.1 MB)\n",
      "   ---------------------------------------- 0.0/2.1 MB ? eta -:--:--\n",
      "   -------------------- ------------------- 1.0/2.1 MB 5.5 MB/s eta 0:00:01\n",
      "   ---------------------------------------- 2.1/2.1 MB 5.8 MB/s eta 0:00:00\n",
      "Downloading openpyxl-3.1.5-py2.py3-none-any.whl (250 kB)\n",
      "Downloading greenlet-3.1.1-cp313-cp313-win_amd64.whl (299 kB)\n",
      "Downloading et_xmlfile-2.0.0-py3-none-any.whl (18 kB)\n",
      "Installing collected packages: mysql-connector-python, greenlet, et-xmlfile, sqlalchemy, openpyxl\n",
      "Successfully installed et-xmlfile-2.0.0 greenlet-3.1.1 mysql-connector-python-9.2.0 openpyxl-3.1.5 sqlalchemy-2.0.38\n"
     ]
    }
   ],
   "source": [
    " pip install pandas mysql-connector-python sqlalchemy openpyxl requests\n"
   ]
  },
  {
   "cell_type": "code",
   "execution_count": 9,
   "metadata": {},
   "outputs": [
    {
     "name": "stdout",
     "output_type": "stream",
     "text": [
      "       country  1960  1961  1962  1963  1964  1965  1966  1967  1968  ...  \\\n",
      "0        Aruba   0.0   NaN   NaN   NaN   NaN   0.0   NaN   NaN   NaN  ...   \n",
      "1  Afghanistan   0.0   NaN   NaN   NaN   NaN   0.0   NaN   NaN   NaN  ...   \n",
      "2       Angola   0.0   NaN   NaN   NaN   NaN   0.0   NaN   NaN   NaN  ...   \n",
      "3      Albania   0.0   NaN   NaN   NaN   NaN   0.0   NaN   NaN   NaN  ...   \n",
      "4      Andorra   0.0   NaN   NaN   NaN   NaN   0.0   NaN   NaN   NaN  ...   \n",
      "\n",
      "    2014   2015   2016   2017   2018   2019   2020   2021   2022   2023  \n",
      "0   140k   141k    NaN    NaN    NaN   141k   141k   141k    NaN    NaN  \n",
      "1  18.4M  19.7M  21.6M  23.9M    22M  22.6M  22.7M  22.7M  22.8M    23M  \n",
      "2  14.1M  13.9M    13M  13.3M  13.3M  14.8M  14.6M  15.3M  23.7M  25.7M  \n",
      "3  3.36M   3.4M  3.37M  3.63M  2.71M  2.63M  2.62M  2.64M  2.78M  2.61M  \n",
      "4  66.2k  71.3k  76.1k  80.3k  82.6k  87.9k  80.4k  93.8k   114k   126k  \n",
      "\n",
      "[5 rows x 65 columns]\n"
     ]
    }
   ],
   "source": [
    "import pandas as pd\n",
    "file_path = \"C:\\\\Users\\\\santh\\\\OneDrive\\\\Desktop\\\\day 7\\\\cell_phones_total.xlsx\"\n",
    "df_cell_phones_total = pd.read_excel(file_path)\n",
    "print(df_cell_phones_total.head())"
   ]
  }
 ],
 "metadata": {
  "kernelspec": {
   "display_name": "Python 3",
   "language": "python",
   "name": "python3"
  },
  "language_info": {
   "codemirror_mode": {
    "name": "ipython",
    "version": 3
   },
   "file_extension": ".py",
   "mimetype": "text/x-python",
   "name": "python",
   "nbconvert_exporter": "python",
   "pygments_lexer": "ipython3",
   "version": "3.13.0"
  }
 },
 "nbformat": 4,
 "nbformat_minor": 2
}
